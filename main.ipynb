{
 "cells": [
  {
   "cell_type": "markdown",
   "metadata": {},
   "source": [
    "# Da terminale"
   ]
  },
  {
   "cell_type": "code",
   "execution_count": null,
   "metadata": {},
   "outputs": [],
   "source": [
    "!python -m spinningup.spinup.run ddpg --hid \"[32,32]\" --env LunarLander-v2 --exp_name installtest --gamma 0.999"
   ]
  },
  {
   "cell_type": "code",
   "execution_count": null,
   "metadata": {},
   "outputs": [],
   "source": [
    "!python -m spinningup.spinup.run plot \"c:\\users\\fvirg\\documents\\universita\\rlexam\\spinningup\\data\\installtest\\installtest_s0\""
   ]
  },
  {
   "cell_type": "markdown",
   "metadata": {},
   "source": [
    "# Da codice"
   ]
  },
  {
   "cell_type": "code",
   "execution_count": null,
   "metadata": {},
   "outputs": [],
   "source": [
    "import gym\n",
    "from spinup import ddpg_pytorch as ddpg\n",
    "import os\n",
    "\n",
    "logdir = './experiments/ddpg_experiment'\n",
    "if not os.path.exists(logdir):\n",
    "    os.makedirs(logdir)\n",
    "\n",
    "env_fn = lambda: gym.make('Pendulum-v0')\n",
    "\n",
    "params = {\n",
    "    'env_fn': env_fn,\n",
    "    'ac_kwargs': dict(hidden_sizes=[256, 256]),\n",
    "    'steps_per_epoch': 4000,\n",
    "    'epochs': 10,\n",
    "    'replay_size': int(1e6),\n",
    "    'gamma': 0.99,\n",
    "    'pi_lr': 1e-3,\n",
    "    'q_lr': 1e-3,\n",
    "    'batch_size': 100,\n",
    "    'start_steps': 10000,\n",
    "    'update_after': 1000,\n",
    "    'update_every': 50,\n",
    "    'act_noise': 0.1,\n",
    "    'max_ep_len': 1000,\n",
    "    'seed': 0,\n",
    "    'save_freq': 10,\n",
    "    'logger_kwargs': dict(output_dir=logdir)  \n",
    "}\n",
    "\n",
    "\n",
    "ddpg(**params)\n"
   ]
  },
  {
   "cell_type": "code",
   "execution_count": null,
   "metadata": {},
   "outputs": [],
   "source": [
    "!python -m spinningup.spinup.run plot \"./ddpg_experiment\""
   ]
  },
  {
   "cell_type": "code",
   "execution_count": null,
   "metadata": {},
   "outputs": [],
   "source": []
  }
 ],
 "metadata": {
  "kernelspec": {
   "display_name": "spinningup",
   "language": "python",
   "name": "python3"
  },
  "language_info": {
   "codemirror_mode": {
    "name": "ipython",
    "version": 3
   },
   "file_extension": ".py",
   "mimetype": "text/x-python",
   "name": "python",
   "nbconvert_exporter": "python",
   "pygments_lexer": "ipython3",
   "version": "3.6.13"
  }
 },
 "nbformat": 4,
 "nbformat_minor": 2
}
